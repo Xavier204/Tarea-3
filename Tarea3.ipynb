{
  "nbformat": 4,
  "nbformat_minor": 0,
  "metadata": {
    "colab": {
      "provenance": []
    },
    "kernelspec": {
      "name": "python3",
      "display_name": "Python 3"
    },
    "language_info": {
      "name": "python"
    }
  },
  "cells": [
    {
      "cell_type": "markdown",
      "source": [
        "<a target=\"_blank\" href=\"https://colab.research.google.com/github/AsCiDEN/Tarea-3/blob/main/Tarea3.ipynb\">\n",
        "  <img src=\"https://colab.research.google.com/assets/colab-badge.svg\" alt=\"Open In Colab\"/>\n",
        "</a>"
      ],
      "metadata": {
        "id": "-cQoUM8or-dp"
      }
    },
    {
      "cell_type": "markdown",
      "source": [
        "# **CD2201-16: Ciencia de Datos en Astronomía**\n",
        "\n",
        "**Profesores:** Boris Cuevas, Paula Díaz, Danilo Sepúlveda, Francisco Urbina\n",
        "\n",
        "# **Tarea 3: Ajuste de modelos**\n",
        "\n",
        "El objetivo de esta tarea es ajustar diferentes modelos a las curvas de rotación de galaxias y, evaluando con las métricas presentadas en clases, concluír que la materia oscura es capaz de explicar la fenomenología descrita por las observaciones."
      ],
      "metadata": {
        "id": "lO_m4RY9OF3Q"
      }
    },
    {
      "cell_type": "markdown",
      "source": [
        "## **¿Materia oscura o solo materia luminosa?**\n",
        "\n",
        "La curva de rotación de una galaxia es la velocidad a la cual sus estrellas o gas rota en torno a su centro como función de la distancia. Asumiendo movimiento circular y la ley de Gravitación de Newton, se puede obtener la siguiente fórmula para la curva de rotación (o ecuación de movimiento):\n",
        "\n",
        "\\begin{equation}\n",
        "\\tag{1}\n",
        "a_c(R) = \\frac{v^2(R)}{R} = \\frac{G M(r\\leq R)}{R^2} \\implies v(R) = \\sqrt{\\frac{GM(r\\leq R)}{R}},\n",
        "\\end{equation}\n",
        "\n",
        "donde  $G$ es la constante de gravitación universal, y\n",
        "\\begin{equation}\n",
        "\\tag{2}\n",
        "M(R) = M(r\\leq R)= 4\\pi \\int_{0}^R \\rho(r)r^2 dr,\n",
        "\\end{equation}\n",
        "es decir, es la masa encerrada en una esfera de radio $R$ para una densidad de masa volumétrica $\\rho(r)$.\n",
        "\n",
        "Bajo esta ecuación, si conocemos la curva de rotación $v(R)$ de una galaxia, podemos inferir su distribución de masa y vice versa.\n",
        "\n",
        "Una forma de obtener $M(R)$ es asumiendo que la masa de las galaxias está dominada por su componente estelar, y por ende, que existe una relación de proporcionalidad entre perfil de masa galáctico y el perfil luminoso de cada galaxia, esto ha llevado a proponer perfiles de tipo exponenciales (o de Sérsic) de la forma:\n",
        "\n",
        "\\begin{equation}\n",
        "\\tag{3}\n",
        "M_{star}(R, M_1, R_1) = M_1 \\times \\left[1 - \\frac{\\exp(-R/R_1)(R_1 + R)}{R_1} \\right]\n",
        "\\end{equation}\n",
        "\n",
        "Note que este perfil depende de dos parámetros que caracterizan la masa ($M_1$) y el tamaño típico ($R_1$) de la galaxia de estudio."
      ],
      "metadata": {
        "id": "Aq0XCckGifjx"
      }
    },
    {
      "cell_type": "markdown",
      "source": [
        "**P1)**\n",
        "1.   Para esta parte de la tarea será necesario trabajar con unidades, en particular, para distancias galácticas la unidad más típica es el kilo-parsec. Defina que es un kilo-parsec (kpc) y muestre su equivalencia en metros. ¿Cuántos planeta Tierra puede colocar uno al lado del otro dentro de 1 kpc de distancia?\n",
        "\n",
        "**Respuesta:** Un parsec es una unidad de longitud, la distancia a la que una unidad astronómica (ua) subtiende un ángulo de un segundo de arco (1″). Un kilo-parsec es 1 parsec multiplicado por 1000.\\\n",
        "Si 1 parsec $\\approx$ 3,0857 * 10^16 metros, entonces 1 (kpc) $\\approx$ 3,0857 * 10^19 metros.\\\n",
        "Para ver cuantos planeta Tierra caen en la distancia de 1kpc, dividimos 1kpc por el diamentro del planeta Tierra:\\\n",
        "Número de planetas Tierra: (3,0857 * 10^19 metros) / (12742 * 10^3 metros) = 2421 miles de millones de planetas Tierra.\n",
        "\n",
        "2. Grafique la curva de velocidad $v(R)$ para la distribución de masa dada en la ecuación (3). Para ello considere $M_1 = 10^{10} M_{\\odot}$ y $R_1 = 5 $ kpc, donde $M_\\odot \\approx 1.989\\times 10^{30}$ kg es la masa del sol."
      ],
      "metadata": {
        "id": "B24we19AH43P"
      }
    },
    {
      "cell_type": "code",
      "source": [
        "#calculo de n° de planetas Tierra:\n",
        "n_planetas_tierra = (3.0857e19)/(12742e3)\n",
        "print(n_planetas_tierra)"
      ],
      "metadata": {
        "colab": {
          "base_uri": "https://localhost:8080/"
        },
        "id": "9A6VriiAExxA",
        "outputId": "2d5bbd9a-6873-4e2b-c650-8f90dc741ecb"
      },
      "execution_count": 8,
      "outputs": [
        {
          "output_type": "stream",
          "name": "stdout",
          "text": [
            "2421676345942.5522\n"
          ]
        }
      ]
    },
    {
      "cell_type": "markdown",
      "source": [
        "**Nota:** Para esta tarea puede utilizar el módulo [astropy.units](https://docs.astropy.org/en/stable/units/) para lidiar fácilmente con las unidades. Esto es completamente opcional, no se asignará puntaje extra si es que lo hacen, pero puede investigarlo si así lo desea. Tampoco se descontará en caso contrario."
      ],
      "metadata": {
        "id": "5yoHJYXDrJsG"
      }
    },
    {
      "cell_type": "code",
      "source": [
        "import numpy as np\n",
        "import matplotlib.pyplot as plt\n",
        "G = 6.67e-11 # constante de gravitación universal en unidades de m^3 kg^-1 s^-2\n",
        "kpc_to_m = 3.0857 * 10e19 #rellene con el valor de 1 kpc en metros\n",
        "solar_masses_to_kg = 1.989e30 # 1 masa solar en kg\n",
        "\n",
        "M__1 = 1e10 * solar_masses_to_kg #kg\n",
        "R__1 = 5 * kpc_to_m # metro"
      ],
      "metadata": {
        "id": "RxAJrMfPILTT"
      },
      "execution_count": 55,
      "outputs": []
    },
    {
      "cell_type": "code",
      "source": [
        "# Cree la función M_star(R, M_1, R_1) según la ecuación (1)\n",
        "\n",
        "def M_star(R, M_1, R_1):\n",
        "  return M_1 * (1 - (np.exp(-R/ R_1) * (R_1 + R) / R_1))\n",
        "\n",
        "# Cree la función v_R_stars(R, M1, R1) utilizando la ec. (3) en (1). v(R) debe tener unidades de km/s\n",
        "# Tenga cuidado con las unidades, como referencia la velocidad debería quedar entre ~10-50 km/s\n",
        "def v_R_stars(R, M1, R1):\n",
        "    return np.sqrt(G * M_star(R, M1, R1) / R) / 1000  # Convertir a km/s\n",
        "\n",
        "# Cree el arreglo \"R\", con distancias desde 0.01 a 100 kpc de forma equiespaciada con 100 elementos.\n",
        "R = np.linspace(0.01, 100, 100)  # R en kpc\n",
        "R_metros = R * kpc_to_m  # Convertir R a metros\n",
        "\n",
        "# Calcule v(R) en km/s colocando la ecuación (3) en (1) y haga el gráfico correspondiente\n",
        "v_r_stars = v_R_stars(R_metros, M__1, R__1)\n",
        "\n",
        "# Haga el gráfico :)\n",
        "# No olvide en cada eje indicar las unidades.\n",
        "plt.figure(figsize=(10, 6))\n",
        "plt.plot(R, v_r_stars, label='Curva de velocidad', color='red')\n",
        "plt.xlabel('Distancia (kpc)')\n",
        "plt.ylabel('Velocidad (km/s)')\n",
        "plt.title('Curva de velocidad v(R) para la distribución de masa M_star(R)')\n",
        "plt.legend()\n",
        "plt.show()"
      ],
      "metadata": {
        "id": "h9d9tpWdIRv3",
        "colab": {
          "base_uri": "https://localhost:8080/",
          "height": 565
        },
        "collapsed": true,
        "outputId": "543d911d-ab65-4c23-e6ce-3813a0ea0428"
      },
      "execution_count": 61,
      "outputs": [
        {
          "output_type": "display_data",
          "data": {
            "text/plain": [
              "<Figure size 1000x600 with 1 Axes>"
            ],
            "image/png": "[encoded data removed]"
          },
          "metadata": {}
        }
      ]
    },
    {
      "cell_type": "markdown",
      "source": [
        "3. ¿Qué puede decir del comportamiento de $v(R)$ para $R \\gg R_1$? Aproxime $M(R)$ en dicho caso e indique la forma que tendrá $v(R)$.\n",
        "\n",
        "**Respuesta:**\n",
        "\n",
        "\n",
        " Note que dicha curva tiene la misma forma que la [curva de rotación de los planetas en el sistema solar!](https://sites.temple.edu/profnewby/2019/05/04/solar-system-rotation-curve/)"
      ],
      "metadata": {
        "id": "h0VRkwjxqd47"
      }
    },
    {
      "cell_type": "markdown",
      "source": [
        "En 1978, la astrónoma Vera Rubin descubrió que, para distancias grandes, la curva de rotación no seguía la forma predicha por los típicos perfiles de masa (como aquel que usted describió en la parte anterior).\n",
        "\n",
        "Una forma de resolver este misterio es incorporando un segundo elemento que está aportando de forma considerable a la distribución de materia, pero que aparentemente no emite ni absorbe nada de luz, apodado como **materia oscura**.\n",
        "\n",
        "En 1997, Julio Navarro, Carlos Frenk y Simon White publicaron [un artículo científico](https://iopscience.iop.org/article/10.1086/304888/pdf) en el cual proponían un perfil de densidad $\\rho(r)$ para la materia oscura a partir de resultados de simulaciones numéricas. Este perfil de densidad permite obtener la masa encerrada en un radio $R$ de la forma:\n",
        "\n",
        "\\begin{equation}\n",
        "\\tag{4}\n",
        "M_{dm}(R, M_0, R_0) = M_0 \\times \\left[\\ln\\left(\\frac{R_0 + R}{R_0}\\right)  + \\frac{R_0}{R_0 + R} - 1\\right]\n",
        "\\end{equation}\n",
        "\n",
        "4. Añada al gráfico anterior la curva de rotación dada por perfil de la ecuación (4) considerando $M_0 = 5\\times 10^{10} M_{\\odot}$, y $R_0 = 20$ kpc, recuerde añadir una leyenda adecuada que permita identificar ambos perfiles.\n"
      ],
      "metadata": {
        "id": "NWjVeIf3rvX4"
      }
    },
    {
      "cell_type": "code",
      "source": [
        "M__0 = 5e10 * solar_masses_to_kg #kg\n",
        "R__0 = 20 * kpc_to_m #metros\n",
        "\n",
        "# Parta por definir la función M_dm(R, M0, R0) tal como se definió en la ec. (4)\n",
        "def M_dm(R, M0, R0):\n",
        "  return M0 * (np.log(R0 + R / R0) + (R0 / (R0 + R)) - 1)\n",
        "  pass\n",
        "\n",
        "# Cree la función v_R_dm(R, M0, R0) utilizando la ec. (4) en (1). v(R) debe tener unidades de km/s\n",
        "def v_R_dm(R, M0, R0):\n",
        "  return np.sqrt(G * M_dm(R, M0, R0) / (R/1000))\n",
        "  pass\n",
        "\n",
        "# Utilice el mismo arreglo R de la parte anterior.\n",
        "# Repita el cálculo de v(R) pero para el perfil de la ecuación (4)\n",
        "# No olvide graficar ambas curvas de rotación y colocar una leyenda.\n",
        "v_r_stars = v_R_stars(R_metros, M__0, R__0)\n",
        "v_r_dm = v_R_dm(R_metros, M__0, R__0)\n",
        "\n",
        "# Gráfico:\n",
        "plt.figure(figsize=(10, 6))\n",
        "plt.plot(R, v_r_stars, label='Curva de velocidad', color='red')\n",
        "plt.plot(R, v_r_dm, label='Curva de velocidad', color='blue')\n",
        "plt.xlabel('Distancia (kpc)')\n",
        "plt.ylabel('Velocidad (km/s)')\n",
        "plt.title('Curva de velocidad v(R) para la distribución de masa M_star(R)')\n",
        "plt.legend()\n",
        "plt.show()\n"
      ],
      "metadata": {
        "id": "Lz9WcYrpym6c",
        "colab": {
          "base_uri": "https://localhost:8080/",
          "height": 565
        },
        "outputId": "eebbfe90-fa8e-491c-f957-e4a8c3262bcf"
      },
      "execution_count": 58,
      "outputs": [
        {
          "output_type": "display_data",
          "data": {
            "text/plain": [
              "<Figure size 1000x600 with 1 Axes>"
            ],
            "image/png": "[encoded data removed]"
          },
          "metadata": {}
        }
      ]
    },
    {
      "cell_type": "markdown",
      "source": [
        "5. ¿Qué componente parece dominar a distancias cortas? ¿Cuál a distancias largas?\n",
        "\n",
        "**Respuesta (corta):**"
      ],
      "metadata": {
        "id": "HLu23NWrzxyD"
      }
    },
    {
      "cell_type": "markdown",
      "source": [
        "Es razonable pensar que uno necesita tanto el componente deducido por la masa estelar (o luminosa) como aquella que no interactúa con la luz (materia oscura), por lo que un perfil de masa más completo involucra una suma de cada componente tal como se describe en la siguiente ecuación:\n",
        "\n",
        "\\begin{equation}\n",
        "\\tag{5}\n",
        "M_{tot}(R, M_0, R_0, M_1, R_1 ) =  M_{dm}(R,M_0, R_0) + M_{star}(R, M_1, R_1)\n",
        "\\end{equation}"
      ],
      "metadata": {
        "id": "tm2s5CeLyndN"
      }
    },
    {
      "cell_type": "markdown",
      "source": [
        "Ahora analizaremos la curva de rotación de la [galaxía NGC 6503](https://es.wikipedia.org/wiki/NGC_6503), para ello cargaremos el archivo **velocity_curve_NGC6503.txt**.\n",
        "\n",
        "Las columnas del archivo tienen la siguiente información, distancia del centro (en kpc), velocidad medida (en km/s) y el error estándar en la medición (en km/s)."
      ],
      "metadata": {
        "id": "lVyV5JQ5BIiG"
      }
    },
    {
      "cell_type": "code",
      "source": [
        "# Partiremos por \"montar\" el drive, esto permite que podamos leer los archivos de nuestro drive\n",
        "from google.colab import drive\n",
        "drive.mount('/content/drive')    # se les debe abrir una pestaña extra pidiendo permisos"
      ],
      "metadata": {
        "colab": {
          "base_uri": "https://localhost:8080/"
        },
        "id": "a9DfRZQii-I9",
        "outputId": "fffd57a0-9103-4fb6-fc7d-37c15b9f6e84"
      },
      "execution_count": null,
      "outputs": [
        {
          "output_type": "stream",
          "name": "stdout",
          "text": [
            "Mounted at /content/drive\n"
          ]
        }
      ]
    },
    {
      "cell_type": "code",
      "source": [
        "# Encuentren la ruta de su archivo, para ello puede utilizar la barra de herramientas izquierda\n",
        "# lleguen a su archivo desde su \"drive\" y con el click derecho \"copiar ruta\" y luego la pegan\n",
        "# como un string en la siguiente variable.\n",
        "path_archivo = ''\n",
        "datos = np.loadtxt(path_archivo)"
      ],
      "metadata": {
        "id": "zhYQ121GjETU"
      },
      "execution_count": null,
      "outputs": []
    },
    {
      "cell_type": "code",
      "source": [
        "# Haga un gráfico de la curva de rotación incluyendo barras de error con plt.errorbar\n",
        "# No olvide añadir todo lo esencial de un gráfico y que los errores se vean de forma clara.\n",
        "# Para mejor claridad cuando comparemos con modelos, haga que los puntos NO estén conectados por alguna línea.\n"
      ],
      "metadata": {
        "id": "pCE-LCRVjT8r"
      },
      "execution_count": null,
      "outputs": []
    },
    {
      "cell_type": "markdown",
      "source": [
        "Ajustaremos 3 modelos de curva de rotación para esta galaxia.\n",
        "\n",
        "1. Solo componente estelar.\n",
        "2. Solo materia oscura.\n",
        "3. Componente estelar y materia oscura.\n",
        "\n",
        "¿Es este un problema de ajuste de modelos lineal o no-lineal?\n",
        "\n",
        "**Respuesta (una o dos palabras):**"
      ],
      "metadata": {
        "id": "RvPZZPTWDqr4"
      }
    },
    {
      "cell_type": "code",
      "source": [
        "# Importamos curve_fit que se encargará de hacer el ajuste.\n",
        "from scipy.optimize import curve_fit"
      ],
      "metadata": {
        "id": "ifw7Tj_Ojbzd"
      },
      "execution_count": null,
      "outputs": []
    },
    {
      "cell_type": "code",
      "source": [
        "# Escriba la función v_R_tot(R, M0, R0, M1, R1) que utiliza M_tot descrito en la ecuación (5).\n",
        "# Hint: puede directamente construir esta ecuación con v_R_dm y v_R_stars, le puede ahorrar errores.\n",
        "\n",
        "def v_R_tot(R, M0, R0, M1, R1):\n",
        "  pass\n",
        "\n",
        "# Utilice curve_fit para ajustar los 3 modelos antes mencionados. Incluya los errores.\n",
        "# Para las condiciones iniciales, considere masas entre 1e10 a 1e11 masas solares, y radios entre 1 a 20 kpc.\n",
        "# Rellene según corresponda, ignore las variables \"pcov\"\n",
        "\n",
        "popt_stars, pcov_stars = curve_fit()\n",
        "\n",
        "popt_dm, pcov_dm = curve_fit()\n",
        "\n",
        "popt_tot, pcov_tot = curve_fit()"
      ],
      "metadata": {
        "id": "J5tpsnovn215"
      },
      "execution_count": null,
      "outputs": []
    },
    {
      "cell_type": "code",
      "source": [
        "# En el gráfico de los datos, añada los 3 modelos con los parámetros óptimos encontrados en la parte anterior.\n",
        "# No olvide añadir una leyenda adecuada.\n"
      ],
      "metadata": {
        "id": "X748XGiTkND6"
      },
      "execution_count": null,
      "outputs": []
    },
    {
      "cell_type": "markdown",
      "source": [
        "Evaluaremos cada modelo con la métrica $\\chi ^2$ definida como:\n",
        "\n",
        "$$\\chi ^2 = \\sum_{i=1}^N \\frac{(y_i - v_R(x_i))^2}{\\sigma_i^2}, $$\n",
        "\n",
        "donde $y_i$ es el dato de la velocidad de rotación en la distancia $x_i$, cuyo error de medición es $\\sigma_i$ y $v_R$ es el modelo respectivo.\n"
      ],
      "metadata": {
        "id": "smOManAmF60t"
      }
    },
    {
      "cell_type": "code",
      "source": [
        "# Para evaluar las métricas necesita primero evaluar su modelo en cada x_i\n",
        "pred_tot = v_R_tot()\n",
        "pred_dm = v_R_dm()\n",
        "pred_stars = v_R_stars()\n",
        "\n",
        "# Defina la función chi_cuadrado(datos, sigma, pred), donde datos, sigma y pred\n",
        "# son arreglos de igual largo que contienen los datos y_i, los errores sigma_i y\n",
        "# la predicción de algún modelo.\n",
        "# Esto se puede hacer en 1 línea con arreglos de numpy :)\n",
        "\n",
        "def chi_cuadrado(datos, sigma, pred):\n",
        "  pass\n",
        "\n",
        "# Haga un print reportando el chi-cuadrado de cada modelo. Rellene según corresponda.\n",
        "\n",
        "print('Chi-cuadrado (dm+stars): ', chi_cuadrado())\n",
        "print('Chi-cuadrado (dm-only): ', chi_cuadrado())\n",
        "print('Chi-cuadrado (stars-only): ', chi_cuadrado())"
      ],
      "metadata": {
        "id": "uyplDMjRlz4V"
      },
      "execution_count": null,
      "outputs": []
    },
    {
      "cell_type": "markdown",
      "source": [
        "**Responda:**\n",
        "1. ¿Qué modelo ajusta mejor los datos bajo la métrica anterior? ¿El peor?\n",
        "2. ¿Qué puede concluír de los constituyentes de la galaxia NGC6503?"
      ],
      "metadata": {
        "id": "H997rsDcHbbU"
      }
    },
    {
      "cell_type": "markdown",
      "source": [
        "## **¿Cuántos parámetros utilizo?**\n",
        "\n",
        "En el problema anterior el modelo que utilizamos tenía una motivación física, no estaba escogido \"al azar\". En esta parte trataremos de modelar algo del cual no tenemos una motivación física para proponer un modelo, en estos casos siempre debe primar el utilizar modelos sencillos por sobre modelos de alta complejidad o con muchos parámetros. En particular, ajustaremos polinomios de distinto grado y determinaremos el grado óptimo del modelo tal que su capacidad predictiva no se vea alterada."
      ],
      "metadata": {
        "id": "CmttB9pLM4rE"
      }
    },
    {
      "cell_type": "markdown",
      "source": [
        "Partiremos por generar los datos.\n",
        "\n",
        "Considere la siguiente función:\n",
        "\n",
        "$$f(x) = 5\\sin(x) + 5\\cos(x^2) + 3$$\n",
        "\n",
        "Le añadiremos ruido utilizando una distribución normal $N(\\mu= 0, \\sigma=2)$."
      ],
      "metadata": {
        "id": "eXzCOtYCcRCG"
      }
    },
    {
      "cell_type": "code",
      "source": [
        "np.random.seed(123)  # investigue que hace esta línea de código"
      ],
      "metadata": {
        "id": "prfAsnuUgHAt"
      },
      "execution_count": null,
      "outputs": []
    },
    {
      "cell_type": "markdown",
      "source": [
        "**Responda:**\n",
        "- ¿Qué hace la línea de código anterior? ¿Por qué es una buena práctica utilizar una \"semilla\" cuando se realizan experimentos aleatorios?"
      ],
      "metadata": {
        "id": "LmQvdaf0gK3I"
      }
    },
    {
      "cell_type": "code",
      "source": [
        "N_data = 100\n",
        "x = np.linspace(0,np.pi/2, N_data)\n",
        "\n",
        "# Calcule un arreglo con los valores de la función f(x) con el arreglo antes definido\n",
        "y_real =\n",
        "\n",
        "# Ahora sume el \"ruido\" aleatorio. Para ello utilice np.random.normal()\n",
        "# Revise la documentación y utilice una desviación estándar igual a 2\n",
        "\n",
        "y_ruido =\n",
        "\n",
        "# Visualice sus datos :)\n",
        "# Puede graficar la función sin ruido si así lo desea. (opcional)\n"
      ],
      "metadata": {
        "id": "nfEoEdZ7g7Yh"
      },
      "execution_count": null,
      "outputs": []
    },
    {
      "cell_type": "markdown",
      "source": [
        "Ahora, de forma similar a lo visto en clases, haremos un ajuste con modelos polinomiales y, utilizando cross-validation, determinaremos el grado del polinomio óptimo a modo de favorecer la capacidad predictiva del modelo."
      ],
      "metadata": {
        "id": "rXQEWxgxiOWG"
      }
    },
    {
      "cell_type": "code",
      "source": [
        "# Importamos los esenciales :)\n",
        "from sklearn.linear_model import LinearRegression\n",
        "from sklearn.preprocessing import PolynomialFeatures\n",
        "from sklearn.metrics import mean_squared_error\n",
        "from sklearn.model_selection import train_test_split"
      ],
      "metadata": {
        "id": "we9pxxpIhHqe"
      },
      "execution_count": null,
      "outputs": []
    },
    {
      "cell_type": "code",
      "source": [
        "# En la siguiente variable guardaremos el error asociado a los modelos\n",
        "# Exploraremos polinomios de grado 1 hasta 10, cada fila estará asociada a un modelo\n",
        "# distinto y las columnas a alguna iteración de cross-validation\n",
        "\n",
        "N_iteraciones  = 100 # puede cambiar este valor si lo desea\n",
        "errores_modelos = np.zeros((10, N_iteraciones))"
      ],
      "metadata": {
        "id": "3vjBdv8lhI_u"
      },
      "execution_count": null,
      "outputs": []
    },
    {
      "cell_type": "markdown",
      "source": [
        "Ahora, repita el siguiente experimento para realizar cross-validation. Para cada iteración debe hacer lo siguiente:\n",
        "\n",
        "- Divida el dataset en entrenamiento y testeo (use una proporción adecuada). Utilice la función train_test_split!\n",
        "- Con el set de entrenamiento ajuste el modelo polinomial (desde el grado 1 al 10). Puede utilizar PolynomialFeatures para generar la matriz de diseño que necesite, use include_bias=True.  \n",
        "- Evalúe su modelo en los datos de testeo y utilice las predicciones para evaluar el mean_squared_error.\n",
        "- Guarde el MSE en la matriz de errores."
      ],
      "metadata": {
        "id": "i7HRf3s6jAIS"
      }
    },
    {
      "cell_type": "code",
      "source": [
        "for i in range(100):\n",
        "  # Rellene según corresponda\n",
        "    for j in range(10):\n",
        "      # Aquí puede iterar para cada modelo o grado del polinomio :) (cuidado que j parte siendo 0)"
      ],
      "metadata": {
        "id": "U0LGJ2W-kC9s"
      },
      "execution_count": null,
      "outputs": []
    },
    {
      "cell_type": "markdown",
      "source": [
        "Finalmente, grafique el MSE promedio de las N iteraciones, para cada modelo y decida cuál es el grado óptimo del polinomio que debería utilizar para su modelo."
      ],
      "metadata": {
        "id": "D3nTVpvkkOvw"
      }
    },
    {
      "cell_type": "code",
      "source": [
        "# Note que para calcular el promedio pedido puede utilizar np.mean(errores_modelos, axis=1) ¿qué hace el parámetro axis=1?\n",
        "# Añada su gráfico."
      ],
      "metadata": {
        "id": "GMpU4FEbhLkS"
      },
      "execution_count": null,
      "outputs": []
    },
    {
      "cell_type": "markdown",
      "source": [
        "El grado óptimo del polinomio es..... (complete la oración)"
      ],
      "metadata": {
        "id": "m2xhyHZDql_c"
      }
    }
  ]
}